{
 "cells": [
  {
   "cell_type": "code",
   "execution_count": 38,
   "metadata": {},
   "outputs": [],
   "source": [
    "import torch\n",
    "import torch.optim as optim\n",
    "import torch.nn as nn\n",
    "from torch.utils.data import DataLoader\n",
    "import numpy as np\n",
    "import matplotlib.pyplot as plt\n",
    "import string\n",
    "from nltk.corpus import stopwords\n",
    "import nltk\n"
   ]
  },
  {
   "cell_type": "code",
   "execution_count": 15,
   "metadata": {},
   "outputs": [
    {
     "name": "stderr",
     "output_type": "stream",
     "text": [
      "[nltk_data] Downloading package stopwords to\n",
      "[nltk_data]     C:\\Users\\HH\\AppData\\Roaming\\nltk_data...\n",
      "[nltk_data]   Package stopwords is already up-to-date!\n"
     ]
    },
    {
     "data": {
      "text/plain": [
       "True"
      ]
     },
     "execution_count": 15,
     "metadata": {},
     "output_type": "execute_result"
    }
   ],
   "source": [
    "nltk.download(\"stopwords\")"
   ]
  },
  {
   "cell_type": "markdown",
   "metadata": {},
   "source": [
    "## Preprocessing"
   ]
  },
  {
   "cell_type": "code",
   "execution_count": 77,
   "metadata": {},
   "outputs": [],
   "source": [
    "class preprocessing():\n",
    "    def __init__(self, corpus, window_size):\n",
    "        self.corpus = corpus\n",
    "        self.window_size = window_size\n",
    "    \n",
    "    def split_corpus(self):\n",
    "        stop_words = stopwords.words(\"english\")\n",
    "        corpus = self.corpus.split('.')\n",
    "        train_data = []\n",
    "        for sentence in corpus:\n",
    "            sentence = sentence.strip().split()\n",
    "            sentence = [word.strip(string.punctuation) for word in sentence \\\n",
    "                                                        if word not in stop_words]\n",
    "            train_data.append(sentence)\n",
    "        return train_data\n",
    "    \n",
    "    def prepare_data_for_training(self):\n",
    "        sentences = self.split_corpus()\n",
    "        all_words = []\n",
    "        for sentence in sentences:\n",
    "            for word in sentence:\n",
    "                if word not in all_words:\n",
    "                    all_words.append(word)\n",
    "        all_words, V = sorted(all_words), len(all_words)\n",
    "        data, X_train, y_train = {}, [], []\n",
    "        for id, word in enumerate(all_words):\n",
    "            data[word] = id\n",
    "        for sentence in sentences:\n",
    "            for id, word in enumerate(sentence):\n",
    "                center_word, context = np.zeros(V), np.zeros(V)\n",
    "                center_word[data[word]] = 1\n",
    "                for i in range(id - self.window_size, id + self.window_size + 1):\n",
    "                    if i >= 0 and i < len(sentence) and i != id:\n",
    "                        context[data[sentence[i]]] = 1\n",
    "                center_word = torch.from_numpy(center_word)\n",
    "                context = torch.from_numpy(context)\n",
    "                X_train.append(center_word.float()); y_train.append(context.float())\n",
    "        return (np.array(X_train), np.array(y_train), all_words)\n",
    "    "
   ]
  },
  {
   "cell_type": "markdown",
   "metadata": {},
   "source": [
    "## Prepare data"
   ]
  },
  {
   "cell_type": "code",
   "execution_count": 78,
   "metadata": {},
   "outputs": [],
   "source": [
    "corpus = \"The earth revolves around the sun. The moon revolves around the earth\"\n",
    "preprocess = preprocessing(corpus, window_size = 3)\n",
    "X_train, y_train, all_words = preprocess.prepare_data_for_training()\n",
    "X_train, y_train = torch.from_numpy(X_train), torch.from_numpy(y_train)\n",
    "V = len(X_train[0])"
   ]
  },
  {
   "cell_type": "markdown",
   "metadata": {},
   "source": [
    "## Model"
   ]
  },
  {
   "cell_type": "code",
   "execution_count": 79,
   "metadata": {},
   "outputs": [],
   "source": [
    "class network(nn.Module):\n",
    "    def __init__(self, vocabs_size, hidden_size):\n",
    "        super(network, self).__init__()\n",
    "        self.fc1 = nn.Linear(vocabs_size, hidden_size)\n",
    "        self.fc2 = nn.Linear(hidden_size, vocabs_size)\n",
    "\n",
    "    def forward(self, x):\n",
    "        x = self.fc1(x)\n",
    "        x = self.fc2(x)\n",
    "        return x\n",
    "    "
   ]
  },
  {
   "cell_type": "code",
   "execution_count": 84,
   "metadata": {},
   "outputs": [],
   "source": [
    "model = network(vocabs_size = V, hidden_size = 10)\n",
    "optimizer = optim.SGD(model.parameters(), lr=1e-2)\n",
    "loss_fn = nn.CrossEntropyLoss()\n"
   ]
  },
  {
   "cell_type": "code",
   "execution_count": 85,
   "metadata": {},
   "outputs": [
    {
     "name": "stderr",
     "output_type": "stream",
     "text": [
      "C:\\Users\\HH\\AppData\\Local\\Temp\\ipykernel_9700\\2332054401.py:20: UserWarning: To copy construct from a tensor, it is recommended to use sourceTensor.clone().detach() or sourceTensor.clone().detach().requires_grad_(True), rather than torch.tensor(sourceTensor).\n",
      "  X_tensor = torch.tensor(X, dtype=torch.float32).unsqueeze(0)\n",
      "C:\\Users\\HH\\AppData\\Local\\Temp\\ipykernel_9700\\2332054401.py:21: UserWarning: To copy construct from a tensor, it is recommended to use sourceTensor.clone().detach() or sourceTensor.clone().detach().requires_grad_(True), rather than torch.tensor(sourceTensor).\n",
      "  y_tensor = torch.tensor(y, dtype=torch.float32).unsqueeze(0)\n"
     ]
    },
    {
     "name": "stdout",
     "output_type": "stream",
     "text": [
      "Epoch 0, Loss: 64.70910310745239\n",
      "Epoch 20, Loss: 60.154664516448975\n",
      "Epoch 40, Loss: 58.66490602493286\n",
      "Epoch 60, Loss: 57.584965229034424\n",
      "Epoch 80, Loss: 56.69344353675842\n",
      "Epoch 100, Loss: 55.97877812385559\n",
      "Epoch 120, Loss: 55.43441390991211\n",
      "Epoch 140, Loss: 54.995126724243164\n",
      "Epoch 160, Loss: 54.62014102935791\n",
      "Epoch 180, Loss: 54.30335783958435\n",
      "Epoch 200, Loss: 54.046310901641846\n",
      "Epoch 220, Loss: 53.84427356719971\n",
      "Epoch 240, Loss: 53.68740797042847\n",
      "Epoch 260, Loss: 53.565370321273804\n",
      "Epoch 280, Loss: 53.46958255767822\n",
      "Epoch 300, Loss: 53.39353942871094\n",
      "Epoch 320, Loss: 53.33244323730469\n",
      "Epoch 340, Loss: 53.28277587890625\n",
      "Epoch 360, Loss: 53.24194812774658\n",
      "Epoch 380, Loss: 53.20802688598633\n",
      "Epoch 400, Loss: 53.1795756816864\n",
      "Epoch 420, Loss: 53.15549564361572\n",
      "Epoch 440, Loss: 53.134949684143066\n",
      "Epoch 460, Loss: 53.11728525161743\n",
      "Epoch 480, Loss: 53.10199522972107\n",
      "Epoch 500, Loss: 53.08867835998535\n",
      "Epoch 520, Loss: 53.07700562477112\n",
      "Epoch 540, Loss: 53.06672286987305\n",
      "Epoch 560, Loss: 53.057618618011475\n",
      "Epoch 580, Loss: 53.04952073097229\n",
      "Epoch 600, Loss: 53.04228401184082\n",
      "Epoch 620, Loss: 53.03579068183899\n",
      "Epoch 640, Loss: 53.0299437046051\n",
      "Epoch 660, Loss: 53.02466297149658\n",
      "Epoch 680, Loss: 53.01987171173096\n",
      "Epoch 700, Loss: 53.015511989593506\n",
      "Epoch 720, Loss: 53.01153755187988\n",
      "Epoch 740, Loss: 53.007896423339844\n",
      "Epoch 760, Loss: 53.00455951690674\n",
      "Epoch 780, Loss: 53.001487731933594\n",
      "Epoch 800, Loss: 52.99865484237671\n",
      "Epoch 820, Loss: 52.99603772163391\n",
      "Epoch 840, Loss: 52.993610858917236\n",
      "Epoch 860, Loss: 52.99135971069336\n",
      "Epoch 880, Loss: 52.989264488220215\n",
      "Epoch 900, Loss: 52.98731017112732\n",
      "Epoch 920, Loss: 52.98548603057861\n",
      "Epoch 940, Loss: 52.98377990722656\n",
      "Epoch 960, Loss: 52.982177734375\n",
      "Epoch 980, Loss: 52.98067378997803\n",
      "Epoch 1000, Loss: 52.97926092147827\n",
      "Epoch 1020, Loss: 52.97792601585388\n",
      "Epoch 1040, Loss: 52.97666883468628\n",
      "Epoch 1060, Loss: 52.97548151016235\n",
      "Epoch 1080, Loss: 52.97435712814331\n",
      "Epoch 1100, Loss: 52.973291873931885\n",
      "Epoch 1120, Loss: 52.9722785949707\n",
      "Epoch 1140, Loss: 52.97131705284119\n",
      "Epoch 1160, Loss: 52.970402002334595\n",
      "Epoch 1180, Loss: 52.96953010559082\n",
      "Epoch 1200, Loss: 52.968698501586914\n",
      "Epoch 1220, Loss: 52.96790266036987\n",
      "Epoch 1240, Loss: 52.967143535614014\n",
      "Epoch 1260, Loss: 52.96641683578491\n",
      "Epoch 1280, Loss: 52.96571969985962\n",
      "Epoch 1300, Loss: 52.96505117416382\n",
      "Epoch 1320, Loss: 52.96441078186035\n",
      "Epoch 1340, Loss: 52.96379232406616\n",
      "Epoch 1360, Loss: 52.96319818496704\n",
      "Epoch 1380, Loss: 52.962626934051514\n",
      "Epoch 1400, Loss: 52.96207594871521\n",
      "Epoch 1420, Loss: 52.96154308319092\n",
      "Epoch 1440, Loss: 52.96103048324585\n",
      "Epoch 1460, Loss: 52.960535764694214\n",
      "Epoch 1480, Loss: 52.960055351257324\n",
      "Epoch 1500, Loss: 52.95959234237671\n",
      "Epoch 1520, Loss: 52.9591429233551\n",
      "Epoch 1540, Loss: 52.95870637893677\n",
      "Epoch 1560, Loss: 52.95828342437744\n",
      "Epoch 1580, Loss: 52.957873821258545\n",
      "Epoch 1600, Loss: 52.957472801208496\n",
      "Epoch 1620, Loss: 52.95708703994751\n",
      "Epoch 1640, Loss: 52.95671081542969\n",
      "Epoch 1660, Loss: 52.95634388923645\n",
      "Epoch 1680, Loss: 52.9559850692749\n",
      "Epoch 1700, Loss: 52.955639362335205\n",
      "Epoch 1720, Loss: 52.95530080795288\n",
      "Epoch 1740, Loss: 52.95496892929077\n",
      "Epoch 1760, Loss: 52.95464491844177\n",
      "Epoch 1780, Loss: 52.95433044433594\n",
      "Epoch 1800, Loss: 52.95402240753174\n",
      "Epoch 1820, Loss: 52.95372152328491\n",
      "Epoch 1840, Loss: 52.95342683792114\n",
      "Epoch 1860, Loss: 52.95313787460327\n",
      "Epoch 1880, Loss: 52.95285606384277\n",
      "Epoch 1900, Loss: 52.95257925987244\n",
      "Epoch 1920, Loss: 52.95230960845947\n",
      "Epoch 1940, Loss: 52.9520468711853\n",
      "Epoch 1960, Loss: 52.951786518096924\n",
      "Epoch 1980, Loss: 52.95153188705444\n"
     ]
    }
   ],
   "source": [
    "num_epochs = 2000\n",
    "history = []\n",
    "\n",
    "# for i in range(num_epochs):\n",
    "#     for X, y in zip(X_train, y_train):\n",
    "#         X_tensor = torch.tensor(X, dtype = torch.float32).unsqueeze(0)\n",
    "#         y_tensor = torch.tensor(np.argmax(y), dtype = torch.float32).unsqueeze(0)\n",
    "#         y_pred = model(X_tensor)\n",
    "#         loss_val = loss(y_pred, y_tensor)\n",
    "#         optimizer.zero_grad()\n",
    "#         loss_val.backward()\n",
    "#         optimizer.step()\n",
    "#     if i % 5 == 0:\n",
    "#         print(\"Loss value in epoch {} is {}\".format(i, loss_val.item()))\n",
    "#     history.append(loss_val.item())\n",
    "\n",
    "for epoch in range(num_epochs):\n",
    "    total_loss = 0\n",
    "    for X, y in zip(X_train, y_train):\n",
    "        X_tensor = torch.tensor(X, dtype=torch.float32).unsqueeze(0)\n",
    "        y_tensor = torch.tensor(y, dtype=torch.float32).unsqueeze(0)\n",
    "        optimizer.zero_grad()\n",
    "        output = model(X_tensor)\n",
    "        loss = loss_fn(output, y_tensor)\n",
    "        loss.backward()\n",
    "        optimizer.step()\n",
    "        total_loss += loss.item()\n",
    "    if epoch % 20 == 0:\n",
    "        print(f\"Epoch {epoch}, Loss: {total_loss}\")\n",
    "    history.append(total_loss)\n",
    "    "
   ]
  },
  {
   "cell_type": "code",
   "execution_count": 86,
   "metadata": {},
   "outputs": [
    {
     "data": {
      "image/png": "[encoded data removed]",
      "text/plain": [
       "<Figure size 640x480 with 1 Axes>"
      ]
     },
     "metadata": {},
     "output_type": "display_data"
    }
   ],
   "source": [
    "import matplotlib.pyplot as plt\n",
    "plt.style.use('dark_background')\n",
    "plt.plot(history, c = 'yellow', label = \"loss\")\n",
    "plt.xlabel('epoch')\n",
    "plt.ylabel('loss')\n",
    "plt.title('skip-gram model')\n",
    "plt.legend()\n",
    "plt.show()"
   ]
  },
  {
   "cell_type": "code",
   "execution_count": 88,
   "metadata": {},
   "outputs": [
    {
     "name": "stderr",
     "output_type": "stream",
     "text": [
      "C:\\Users\\HH\\AppData\\Local\\Temp\\ipykernel_9700\\3237975049.py:6: UserWarning: To copy construct from a tensor, it is recommended to use sourceTensor.clone().detach() or sourceTensor.clone().detach().requires_grad_(True), rather than torch.tensor(sourceTensor).\n",
      "  X_tensor = torch.tensor(X, dtype = torch.float32).unsqueeze(0)\n"
     ]
    }
   ],
   "source": [
    "pred_word = []\n",
    "window_size = 3\n",
    "with torch.no_grad():\n",
    "    for X, y in zip(X_train, y_train):\n",
    "        context_pred = []\n",
    "        X_tensor = torch.tensor(X, dtype = torch.float32).unsqueeze(0)\n",
    "        y_pred = model(X_tensor)\n",
    "        values, indices = torch.sort(y_pred[0], descending = True)\n",
    "        for i in indices:\n",
    "            if i < window_size:\n",
    "                context_pred.append(all_words[i])\n",
    "        pred_word.append(context_pred)"
   ]
  },
  {
   "cell_type": "code",
   "execution_count": 92,
   "metadata": {},
   "outputs": [
    {
     "name": "stdout",
     "output_type": "stream",
     "text": [
      "['The'] ['around', 'earth', 'The']\n",
      "['around'] ['around', 'The', 'earth']\n",
      "['earth'] ['around', 'earth', 'The']\n",
      "['moon'] ['earth', 'The', 'around']\n",
      "['revolves'] ['around', 'earth', 'The']\n",
      "['sun'] ['around', 'earth', 'The']\n"
     ]
    }
   ],
   "source": [
    "for i in range(V):\n",
    "    print([all_words[i]], pred_word[i])"
   ]
  }
 ],
 "metadata": {
  "kernelspec": {
   "display_name": "Python 3",
   "language": "python",
   "name": "python3"
  },
  "language_info": {
   "codemirror_mode": {
    "name": "ipython",
    "version": 3
   },
   "file_extension": ".py",
   "mimetype": "text/x-python",
   "name": "python",
   "nbconvert_exporter": "python",
   "pygments_lexer": "ipython3",
   "version": "3.10.11"
  }
 },
 "nbformat": 4,
 "nbformat_minor": 2
}
